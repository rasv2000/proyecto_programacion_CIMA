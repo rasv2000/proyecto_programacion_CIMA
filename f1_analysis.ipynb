{
 "cells": [
  {
   "cell_type": "markdown",
   "metadata": {},
   "source": [
    "Leer las bases de datos que usaremos"
   ]
  },
  {
   "cell_type": "code",
   "execution_count": null,
   "metadata": {},
   "outputs": [],
   "source": [
    "import pandas as pd\n",
    "\n",
    "#c_p = pd.read_csv('Constructor_Performance.csv') #NOPE\n",
    "#print(c_p.head()) # constructorResultsId  raceId  constructorId  points status\n",
    "\n",
    "c_r = pd.read_csv('Constructor_Rankings.csv') #MAYBE\n",
    "#c_r.columns() # constructorStandingsId\traceId\tconstructorId\tpoints\tposition\tpositionText\twins\n",
    "\n",
    "d_d = pd.read_csv('Driver_Details.csv') #MAYBE\n",
    "#d_d.columns() # driverId\tdriverRef\tnumber\tcode\tforename\tsurname\tdob\tnationality\turl\n",
    "\n",
    "d_r = pd.read_csv('Driver_Rankings.csv') #YES <---\n",
    "#d_r.columns() # driverStandingsId\traceId\tdriverId\tpoints\tposition\tpositionText\twins\n",
    "\n",
    "l_t = pd.read_csv('Lap_Timings.csv') #YES <---\n",
    "#l_t.columns() # raceId\tdriverId\tlap\tposition\ttime\tmilliseconds\n",
    "\n",
    "#p_s = pd.read_csv('Pit_Stop_Records.csv') #NOPE\n",
    "#p_s.columns() # raceId\tdriverId\tstop\tlap\ttime\tduration\tmilliseconds\n",
    "\n",
    "q_r = pd.read_csv('Qualifying_Results.csv') #MAYBE\n",
    "#q_r.columns() # qualifyId\traceId\tdriverId\tconstructorId\tnumber\tposition\tq1\tq2\tq3\n",
    "\n",
    "r_r = pd.read_csv('Race_Results.csv') #YES <---\n",
    "#r_r.columns() # resultId\traceId\tdriverId\tconstructorId\tnumber\tgrid\tposition\tpositionText\tpositionOrder\tpoints\tlaps\ttime\tmilliseconds\tfastestLap\trank\tfastestLapTime\tfastestLapSpeed\tstatusId\n",
    "\n",
    "r_sc = pd.read_csv('Race_Schedule.csv') #YES\n",
    "#r_sc.columns() # raceId\tyear\tround\tcircuitId\tname\tdate\ttime\turl\tfp1_date\tfp1_time\tfp2_date\tfp2_time\tfp3_date\tfp3_time\tquali_date\tquali_time\tsprint_date\tsprint_time\n",
    "\n",
    "r_st = pd.read_csv('Race_Status.csv') #MAYBE\n",
    "#r_st.columns() # statusId\tstatus\n",
    "\n",
    "#s_s = pd.read_csv('Season_Summaries.csv') #NOPE\n",
    "#s_s.columns() # year\turl\n",
    "\n",
    "#s_r = pd.read_csv('Sprint_Race_Results.csv') #NOPE\n",
    "#print(s_r.head()) # \tresultId\traceId\tdriverId\tconstructorId\tnumber\tgrid\tposition\tpositionText\tpositionOrder\tpoints\tlaps\ttime\tmilliseconds\tfastestLap\tfastestLapTime\tstatusId\n",
    "\n",
    "t_d = pd.read_csv('Team_Details.csv') #MAYBE\n",
    "#t_d#.columns() # constructorId\tconstructorRef\tname\tnationality\turl\n",
    "\n",
    "#t_i = pd.read_csv('Track_Information.csv') #NOPE\n",
    "#t_i.columns() # circuitId\tcircuitRef\tname\tlocation\tcountry\tlat\tlng\talt\turl"
   ]
  },
  {
   "cell_type": "markdown",
   "metadata": {},
   "source": [
    "Obtención de los Id de Checo y MaxS"
   ]
  },
  {
   "cell_type": "code",
   "execution_count": null,
   "metadata": {},
   "outputs": [
    {
     "data": {
      "text/plain": [
       "(np.int64(830), np.int64(815))"
      ]
     },
     "execution_count": 20,
     "metadata": {},
     "output_type": "execute_result"
    }
   ],
   "source": [
    "checo_id = d_d[(d_d['forename']=='Sergio') & (d_d['surname']=='Pérez')]['driverId'].iloc[0]\n",
    "\n",
    "max_id = d_d[(d_d['forename']=='Max') & (d_d['surname']=='Verstappen')]['driverId'].iloc[0]\n",
    "max_id,checo_id"
   ]
  },
  {
   "cell_type": "markdown",
   "metadata": {},
   "source": [
    "Definir los ID de carreras desde que Checo ingresó a Redbull {2021, 2022, 2023, 2024}"
   ]
  },
  {
   "cell_type": "code",
   "execution_count": 21,
   "metadata": {},
   "outputs": [
    {
     "data": {
      "text/plain": [
       "1035    1053\n",
       "1037    1052\n",
       "1038    1051\n",
       "1039    1054\n",
       "1040    1055\n",
       "1041    1056\n",
       "1042    1057\n",
       "1043    1058\n",
       "1044    1059\n",
       "1045    1060\n",
       "1046    1061\n",
       "1047    1062\n",
       "1048    1063\n",
       "1049    1064\n",
       "1050    1065\n",
       "1051    1066\n",
       "1052    1067\n",
       "1053    1069\n",
       "1054    1070\n",
       "1055    1071\n",
       "1056    1072\n",
       "1057    1073\n",
       "Name: raceId, dtype: int64"
      ]
     },
     "execution_count": 21,
     "metadata": {},
     "output_type": "execute_result"
    }
   ],
   "source": [
    "races_2021 = r_sc[(r_sc['year'] == 2021) & (r_sc['raceId'] <= 1131)]\n",
    "id_races_2021 = races_2021.raceId\n",
    "id_races_2021.shape[0] # Id de las carreras 2021\n",
    "id_races_2021"
   ]
  },
  {
   "cell_type": "code",
   "execution_count": 28,
   "metadata": {},
   "outputs": [
    {
     "data": {
      "text/plain": [
       "1036    1074\n",
       "1058    1075\n",
       "1059    1076\n",
       "1060    1077\n",
       "1061    1078\n",
       "1062    1079\n",
       "1063    1080\n",
       "1064    1081\n",
       "1065    1082\n",
       "1066    1083\n",
       "1067    1084\n",
       "1068    1085\n",
       "1069    1086\n",
       "1070    1087\n",
       "1071    1088\n",
       "1072    1089\n",
       "1073    1091\n",
       "1074    1092\n",
       "1075    1093\n",
       "1076    1094\n",
       "1077    1095\n",
       "1078    1096\n",
       "Name: raceId, dtype: int64"
      ]
     },
     "execution_count": 28,
     "metadata": {},
     "output_type": "execute_result"
    }
   ],
   "source": [
    "races_2022 = r_sc[(r_sc['year'] == 2022) & (r_sc['raceId'] <= 1131)]\n",
    "id_races_2022 = races_2022.raceId\n",
    "id_races_2022.shape[0] # Id de las carreras 2022\n",
    "id_races_2022"
   ]
  },
  {
   "cell_type": "code",
   "execution_count": 29,
   "metadata": {},
   "outputs": [
    {
     "data": {
      "text/plain": [
       "1079    1098\n",
       "1080    1099\n",
       "1081    1100\n",
       "1082    1101\n",
       "1083    1102\n",
       "1084    1104\n",
       "1085    1105\n",
       "1086    1106\n",
       "1087    1107\n",
       "1088    1108\n",
       "1089    1109\n",
       "1090    1110\n",
       "1091    1111\n",
       "1092    1112\n",
       "1093    1113\n",
       "1094    1114\n",
       "1095    1115\n",
       "1096    1116\n",
       "1097    1117\n",
       "1098    1118\n",
       "1099    1119\n",
       "1100    1120\n",
       "Name: raceId, dtype: int64"
      ]
     },
     "execution_count": 29,
     "metadata": {},
     "output_type": "execute_result"
    }
   ],
   "source": [
    "races_2023 = r_sc[(r_sc['year'] == 2023) & (r_sc['raceId'] <= 1131)]\n",
    "id_races_2023 = races_2023.raceId\n",
    "id_races_2023.shape[0] # Id de las carreras 2021\n",
    "id_races_2023"
   ]
  },
  {
   "cell_type": "code",
   "execution_count": 30,
   "metadata": {},
   "outputs": [
    {
     "name": "stdout",
     "output_type": "stream",
     "text": [
      "11\n"
     ]
    },
    {
     "data": {
      "text/plain": [
       "1101    1121\n",
       "1102    1122\n",
       "1103    1123\n",
       "1104    1124\n",
       "1105    1125\n",
       "1106    1126\n",
       "1107    1127\n",
       "1108    1128\n",
       "1109    1129\n",
       "1110    1130\n",
       "1111    1131\n",
       "Name: raceId, dtype: int64"
      ]
     },
     "execution_count": 30,
     "metadata": {},
     "output_type": "execute_result"
    }
   ],
   "source": [
    "races_2024 = r_sc[(r_sc['year'] == 2024) & (r_sc['raceId'] <= 1131)]\n",
    "id_races_2024 = races_2024.raceId\n",
    "print(id_races_2024.shape[0]) # Id de las carreras 2024\n",
    "id_races_2024"
   ]
  },
  {
   "cell_type": "markdown",
   "metadata": {},
   "source": [
    "Se efectuará un análisis por carrera con los timepo de vuelta de Checo y los de Max\n",
    "Veremos si son normales o no\n",
    "Verificar si los tiempos de vuelta de Max y Checo son considerablemente iguales con respectivas pruebas de hipótesis CHECO ID: 815      MAX ID: 830\n"
   ]
  },
  {
   "cell_type": "code",
   "execution_count": 23,
   "metadata": {},
   "outputs": [],
   "source": [
    "from scipy.stats import kstest, norm\n",
    "from scipy import stats\n",
    "from scipy.stats import mannwhitneyu\n",
    "import numpy as np\n",
    "\n",
    "def test(a,b):\n",
    "    alpha = .05\n",
    "    stat, p_value = kstest(a, 'norm', args=(np.mean(a), np.std(a)))\n",
    "    #print(\"Los datos SI siguen una distribución normal \" if p_value > p else \"Los datos NO siguen una distribución normal\")\n",
    "    #print(stat, p_value)\n",
    "    n1 = True if p_value > alpha else False\n",
    "\n",
    "    stat, p_value = kstest(b, 'norm', args=(np.mean(b), np.std(b)))\n",
    "    #print(\"Los datos SI siguen una distribución normal \" if p_value > p else \"Los datos NO siguen una distribución normal\")\n",
    "    #print(stat, p_value)\n",
    "    n2 = True if p_value > alpha else False\n",
    "    #print(n1,n2, end='\\t')\n",
    "\n",
    "    state = None\n",
    "\n",
    "    stat, p_value = mannwhitneyu(a, b, alternative='two-sided')\n",
    "\n",
    "    #print(f'Estadístico U: {stat}')\n",
    "    #print(f'Valor p: {p_value}')\n",
    "    #print('Las muestras son significativamente diferentes' if p_value < alpha else 'No hay evidencia suficiente para decir que las muestras son diferentes', end='\\t')\n",
    "    state = True if p_value < alpha else False\n",
    "    #print(state)\n",
    "    return state#n1,n2,state\n"
   ]
  },
  {
   "cell_type": "code",
   "execution_count": 25,
   "metadata": {},
   "outputs": [
    {
     "name": "stderr",
     "output_type": "stream",
     "text": [
      "/tmp/ipykernel_2769/3454742955.py:13: SmallSampleWarning: One or more sample arguments is too small; all returned values will be NaN. See documentation for sample size requirements.\n",
      "  stat, p_value = kstest(b, 'norm', args=(np.mean(b), np.std(b)))\n",
      "/tmp/ipykernel_2769/3454742955.py:21: SmallSampleWarning: One or more sample arguments is too small; all returned values will be NaN. See documentation for sample size requirements.\n",
      "  stat, p_value = mannwhitneyu(a, b, alternative='two-sided')\n",
      "/tmp/ipykernel_2769/3454742955.py:8: SmallSampleWarning: One or more sample arguments is too small; all returned values will be NaN. See documentation for sample size requirements.\n",
      "  stat, p_value = kstest(a, 'norm', args=(np.mean(a), np.std(a)))\n",
      "/home/rasv/Desktop/CIMA/Programación/F1_DataSet/.venv/lib/python3.12/site-packages/scipy/stats/_distn_infrastructure.py:2110: RuntimeWarning: invalid value encountered in divide\n",
      "  x = np.asarray((x - loc)/scale, dtype=dtyp)\n"
     ]
    }
   ],
   "source": [
    "results_2021=[]\n",
    "for id in id_races_2021:\n",
    "    results_2021.append(test(l_t[(l_t['raceId']==id) & (l_t['driverId']==815)]['milliseconds'],l_t[(l_t['raceId']==id) & (l_t['driverId']==830)]['milliseconds']))\n",
    "\n",
    "df_2021 = pd.DataFrame({\n",
    "    'raceId': id_races_2021,\n",
    "    'diff_performance': results_2021\n",
    "})\n",
    "df_2021\n",
    "\n",
    "df_2021.to_latex('tabla1.tex', index=False) # Exportar dataframe a archivo .tex"
   ]
  },
  {
   "cell_type": "code",
   "execution_count": 31,
   "metadata": {},
   "outputs": [],
   "source": [
    "results_2022=[]\n",
    "for id in id_races_2022:\n",
    "    results_2022.append(test(l_t[(l_t['raceId']==id) & (l_t['driverId']==815)]['milliseconds'],l_t[(l_t['raceId']==id) & (l_t['driverId']==830)]['milliseconds']))\n",
    "\n",
    "df_2022 = pd.DataFrame({\n",
    "    'raceId': id_races_2022,\n",
    "    'diff_performance': results_2022\n",
    "})\n",
    "df_2022\n",
    "\n",
    "df_2022.to_latex('tabla2.tex', index=False) # Exportar dataframe a archivo .tex"
   ]
  },
  {
   "cell_type": "code",
   "execution_count": 33,
   "metadata": {},
   "outputs": [
    {
     "name": "stderr",
     "output_type": "stream",
     "text": [
      "/home/rasv/Desktop/CIMA/Programación/F1_DataSet/.venv/lib/python3.12/site-packages/scipy/stats/_distn_infrastructure.py:2110: RuntimeWarning: invalid value encountered in divide\n",
      "  x = np.asarray((x - loc)/scale, dtype=dtyp)\n"
     ]
    }
   ],
   "source": [
    "results_2023=[]\n",
    "for id in id_races_2023:\n",
    "    results_2023.append(test(l_t[(l_t['raceId']==id) & (l_t['driverId']==815)]['milliseconds'],l_t[(l_t['raceId']==id) & (l_t['driverId']==830)]['milliseconds']))\n",
    "\n",
    "df_2023 = pd.DataFrame({\n",
    "    'raceId': id_races_2023,\n",
    "    'diff_performance': results_2023\n",
    "})\n",
    "df_2023\n",
    "df_2023.to_latex('tabla3.tex', index=False) # Exportar dataframe a archivo .tex"
   ]
  },
  {
   "cell_type": "code",
   "execution_count": 32,
   "metadata": {},
   "outputs": [
    {
     "name": "stderr",
     "output_type": "stream",
     "text": [
      "/tmp/ipykernel_2769/3454742955.py:8: SmallSampleWarning: One or more sample arguments is too small; all returned values will be NaN. See documentation for sample size requirements.\n",
      "  stat, p_value = kstest(a, 'norm', args=(np.mean(a), np.std(a)))\n",
      "/tmp/ipykernel_2769/3454742955.py:21: SmallSampleWarning: One or more sample arguments is too small; all returned values will be NaN. See documentation for sample size requirements.\n",
      "  stat, p_value = mannwhitneyu(a, b, alternative='two-sided')\n"
     ]
    }
   ],
   "source": [
    "results_2024=[]\n",
    "for id in id_races_2024:\n",
    "    results_2024.append(test(l_t[(l_t['raceId']==id) & (l_t['driverId']==815)]['milliseconds'],l_t[(l_t['raceId']==id) & (l_t['driverId']==830)]['milliseconds']))\n",
    "\n",
    "df_2024 = pd.DataFrame({\n",
    "    'raceId': id_races_2024,\n",
    "    'diff_performance': results_2024\n",
    "})\n",
    "df_2024\n",
    "df_2024.to_latex('tabla4.tex', index=False) # Exportar dataframe a archivo .tex"
   ]
  },
  {
   "cell_type": "markdown",
   "metadata": {},
   "source": [
    "ideas streamlit \\\\\n",
    "1.Hacer gŕaficos por carrera con los tiempos de vuelta (verificar se pueden hacer varios trazos) \\n\n",
    "2. Hacer botones o \"seleccionador\" Con los año y/o carreras (por nombre de \"GP\") \\n\n",
    "3. webscraping de pilotos (quizá tambien pistas) con \"seleccionador\" usando bs4"
   ]
  },
  {
   "cell_type": "markdown",
   "metadata": {},
   "source": [
    "ideas \\n\n",
    "1. establecer por mayoria, si hubo diferencia o no, ya sea total o por años\n",
    "2. verificar si se puede exportar los datos a .tex\n",
    "3. mostrar gŕaficas en tex?\n"
   ]
  }
 ],
 "metadata": {
  "kernelspec": {
   "display_name": ".venv",
   "language": "python",
   "name": "python3"
  },
  "language_info": {
   "codemirror_mode": {
    "name": "ipython",
    "version": 3
   },
   "file_extension": ".py",
   "mimetype": "text/x-python",
   "name": "python",
   "nbconvert_exporter": "python",
   "pygments_lexer": "ipython3",
   "version": "3.12.6"
  }
 },
 "nbformat": 4,
 "nbformat_minor": 2
}
